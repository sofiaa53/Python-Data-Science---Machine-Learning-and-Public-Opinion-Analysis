{
 "cells": [
  {
   "cell_type": "markdown",
   "metadata": {},
   "source": [
    "Pada Tugas kali ini kita akan membuat 4 function yang memiliki fungsinya masing-masing.\n",
    "Data yang diambil berasal dari berkas imdb_movie_dumpfile.sql\n",
    "Silahkan import dumpfile tersebut dengan menggunakan terminal/cmd.\n",
    "\n",
    "Jika ada proses yang dilakukan boleh dilakukan dari query sql, atau menggunakan python setelah semua data ditampilkan menggunakan sql. "
   ]
  },
  {
   "cell_type": "code",
   "execution_count": 1,
   "metadata": {},
   "outputs": [],
   "source": [
    "#Taruh semua library/package dsini\n",
    "from mysql.connector import connect\n",
    "from dotenv import dotenv_values\n"
   ]
  },
  {
   "cell_type": "code",
   "execution_count": 18,
   "metadata": {},
   "outputs": [
    {
     "name": "stdout",
     "output_type": "stream",
     "text": [
      "<mysql.connector.connection_cext.CMySQLConnection object at 0x7fbc582050f0>\n"
     ]
    }
   ],
   "source": [
    "#Pada sel ini peserta diminta untuk melakukan koneksi terhadap database.\n",
    "params = {\n",
    "    \"db\":dotenv_values(\".env\")\n",
    "    }\n",
    "db_user = params['db']['MYSQL_USERNAME']\n",
    "db_password = params['db']['MYSQL_PASSWORD']\n",
    "db_host = params['db']['MYSQL_HOST']\n",
    "db_port = params['db']['MYSQL_PORT']\n",
    "db_database = params['db']['MYSQL_DB']\n",
    "\n",
    "db = connect(\n",
    "    host = db_host,\n",
    "    user = db_user,\n",
    "    password = db_password,\n",
    "    database = 'imdb_movie'\n",
    ")\n",
    "\n",
    "print(db)"
   ]
  },
  {
   "cell_type": "markdown",
   "metadata": {},
   "source": [
    "1. Peserta diminta untuk membuat sebuah fungsi yang tugasnya adalah untuk menampilkan 5 direktur dengan jumlah film terbanyak dalam daftar. Data tersebut akan menampilkan secara terurut dari urutan 1 (paling banyak) ke 5."
   ]
  },
  {
   "cell_type": "code",
   "execution_count": 21,
   "metadata": {},
   "outputs": [
    {
     "name": "stdout",
     "output_type": "stream",
     "text": [
      "('Color', 'James Cameron', 723.0, 178.0, 0.0, 855.0, 'Joel David Moore', 1000.0, 760505847.0, 'Action|Adventure|Fantasy|Sci-Fi', 'CCH Pounder', 'Avatar\\xa0', 886204, 4834, 'Wes Studi', 0.0, 'avatar|future|marine|native|paraplegic', 'http://www.imdb.com/title/tt0499549/?ref_=fn_tt_tt_1', '3054', 'English', 'USA', 'PG-13', 237000000.0, 2009.0, 936.0, 7.9, 1.78, 33000)\n",
      "('Color', 'Gore Verbinski', 302.0, 169.0, 563.0, 1000.0, 'Orlando Bloom', 40000.0, 309404152.0, 'Action|Adventure|Fantasy', 'Johnny Depp', \"Pirates of the Caribbean: At World's End\\xa0\", 471220, 48350, 'Jack Davenport', 0.0, 'goddess|marriage ceremony|marriage proposal|pirate|singapore', 'http://www.imdb.com/title/tt0449088/?ref_=fn_tt_tt_1', '1238', 'English', 'USA', 'PG-13', 300000000.0, 2007.0, 5000.0, 7.1, 2.35, 0)\n",
      "('Color', 'Sam Mendes', 602.0, 148.0, 0.0, 161.0, 'Rory Kinnear', 11000.0, 200074175.0, 'Action|Adventure|Thriller', 'Christoph Waltz', 'Spectre\\xa0', 275868, 11700, 'Stephanie Sigman', 1.0, 'bomb|espionage|sequel|spy|terrorist', 'http://www.imdb.com/title/tt2379713/?ref_=fn_tt_tt_1', '994', 'English', 'UK', 'PG-13', 245000000.0, 2015.0, 393.0, 6.8, 2.35, 85000)\n",
      "('Color', 'Christopher Nolan', 813.0, 164.0, 22000.0, 23000.0, 'Christian Bale', 27000.0, 448130642.0, 'Action|Thriller', 'Tom Hardy', 'The Dark Knight Rises\\xa0', 1144337, 106759, 'Joseph Gordon-Levitt', 0.0, 'deception|imprisonment|lawlessness|police officer|terrorist plot', 'http://www.imdb.com/title/tt1345836/?ref_=fn_tt_tt_1', '2701', 'English', 'USA', 'PG-13', 250000000.0, 2012.0, 23000.0, 8.5, 2.35, 164000)\n",
      "(None, 'Doug Walker', None, None, 131.0, None, 'Rob Walker', 131.0, None, 'Documentary', 'Doug Walker', 'Star Wars: Episode VII - The Force Awakens\\xa0            ', 8, 143, None, 0.0, None, 'http://www.imdb.com/title/tt5289954/?ref_=fn_tt_tt_1', ' ', None, None, None, None, None, 12.0, 7.1, None, 0)\n",
      "('Color', 'Andrew Stanton', 462.0, 132.0, 475.0, 530.0, 'Samantha Morton', 640.0, 73058679.0, 'Action|Adventure|Sci-Fi', 'Daryl Sabara', 'John Carter\\xa0', 212204, 1873, 'Polly Walker', 1.0, 'alien|american civil war|male nipple|mars|princess', 'http://www.imdb.com/title/tt0401729/?ref_=fn_tt_tt_1', '738', 'English', 'USA', 'PG-13', 263700000.0, 2012.0, 632.0, 6.6, 2.35, 24000)\n",
      "('Color', 'Sam Raimi', 392.0, 156.0, 0.0, 4000.0, 'James Franco', 24000.0, 336530303.0, 'Action|Adventure|Romance', 'J.K. Simmons', 'Spider-Man 3\\xa0', 383056, 46055, 'Kirsten Dunst', 0.0, 'sandman|spider man|symbiote|venom|villain', 'http://www.imdb.com/title/tt0413300/?ref_=fn_tt_tt_1', '1902', 'English', 'USA', 'PG-13', 258000000.0, 2007.0, 11000.0, 6.2, 2.35, 0)\n",
      "('Color', 'Nathan Greno', 324.0, 100.0, 15.0, 284.0, 'Donna Murphy', 799.0, 200807262.0, 'Adventure|Animation|Comedy|Family|Fantasy|Musical|Romance', 'Brad Garrett', 'Tangled\\xa0', 294810, 2036, 'M.C. Gainey', 1.0, '17th century|based on fairy tale|disney|flower|tower', 'http://www.imdb.com/title/tt0398286/?ref_=fn_tt_tt_1', '387', 'English', 'USA', 'PG', 260000000.0, 2010.0, 553.0, 7.8, 1.85, 29000)\n",
      "('Color', 'Joss Whedon', 635.0, 141.0, 0.0, 19000.0, 'Robert Downey Jr.', 26000.0, 458991599.0, 'Action|Adventure|Sci-Fi', 'Chris Hemsworth', 'Avengers: Age of Ultron\\xa0', 462669, 92000, 'Scarlett Johansson', 4.0, 'artificial intelligence|based on comic book|captain america|marvel cinematic universe|superhero', 'http://www.imdb.com/title/tt2395427/?ref_=fn_tt_tt_1', '1117', 'English', 'USA', 'PG-13', 250000000.0, 2015.0, 21000.0, 7.5, 2.35, 118000)\n",
      "('Color', 'David Yates', 375.0, 153.0, 282.0, 10000.0, 'Daniel Radcliffe', 25000.0, 301956980.0, 'Adventure|Family|Fantasy|Mystery', 'Alan Rickman', 'Harry Potter and the Half-Blood Prince\\xa0', 321795, 58753, 'Rupert Grint', 3.0, 'blood|book|love|potion|professor', 'http://www.imdb.com/title/tt0417741/?ref_=fn_tt_tt_1', '973', 'English', 'UK', 'PG', 250000000.0, 2009.0, 11000.0, 7.5, 2.35, 10000)\n"
     ]
    }
   ],
   "source": [
    "mycursor = db.cursor()\n",
    " \n",
    "mycursor.execute(\"Show tables;\")\n",
    " \n",
    "myresult = mycursor.fetchall()\n",
    " \n",
    "for x in myresult:\n",
    "    print(x)"
   ]
  },
  {
   "cell_type": "code",
   "execution_count": null,
   "metadata": {},
   "outputs": [],
   "source": [
    "def most_maker_director():\n",
    "    pass"
   ]
  },
  {
   "cell_type": "markdown",
   "metadata": {},
   "source": [
    "2. Peserta diminta untuk membuat sebuah fungsi yang tugasnya adalah untuk menampilkan 10 direktur dengan total jumlah pendapatan terbesar untuk semua film yang dia buat. Data tersebut akan menampilkan secara terurut dari urutan 1 (paling banyak) ke 10 beserta total pendapatan dari masing-masing direktur.\n",
    "\n",
    "Pendapatan bisa didapatkan dari nilai gross"
   ]
  },
  {
   "cell_type": "code",
   "execution_count": 2,
   "metadata": {},
   "outputs": [],
   "source": [
    "def most_profitable_director():\n",
    "    pass"
   ]
  },
  {
   "cell_type": "markdown",
   "metadata": {},
   "source": [
    "3. Peserta diminta untuk membuat sebuah fungsi yang tugasnya adalah untuk menampilkan 15 film dengan pendapatan terbesar. Data tersebut akan menampilkan secara terurut dari urutan 1 (paling banyak) ke 15 beserta pendapatan dari masing-masing film"
   ]
  },
  {
   "cell_type": "code",
   "execution_count": null,
   "metadata": {},
   "outputs": [],
   "source": [
    "def most_profitable_movie():\n",
    "    pass"
   ]
  },
  {
   "cell_type": "markdown",
   "metadata": {},
   "source": [
    "4. Peserta diminta untuk membuat sebuah fungsi yang tugasnya adalah untuk menampilkan plot distribusi budget dari semua film pada tahun yang ditentukan. fungsi ini memiliki input, yaitu adalah tahun."
   ]
  },
  {
   "cell_type": "code",
   "execution_count": null,
   "metadata": {},
   "outputs": [],
   "source": [
    "def budget_distribution(year):\n",
    "    pass"
   ]
  },
  {
   "cell_type": "markdown",
   "metadata": {},
   "source": [
    "Semua sel di bawah digunakan untuk pemanggilan fungsi dan menunjukan hasil yang diharapkan."
   ]
  },
  {
   "cell_type": "code",
   "execution_count": 12,
   "metadata": {},
   "outputs": [
    {
     "name": "stdout",
     "output_type": "stream",
     "text": [
      "1. Steven Spielberg\n",
      "2. Woody Allen\n",
      "3. Martin Scorsese\n",
      "4. Clint Eastwood\n",
      "5. Ridley Scott\n"
     ]
    }
   ],
   "source": [
    "most_maker_director()"
   ]
  },
  {
   "cell_type": "code",
   "execution_count": 17,
   "metadata": {},
   "outputs": [
    {
     "name": "stdout",
     "output_type": "stream",
     "text": [
      "1. Steven Spielberg - 4,114,233,101.00\n",
      "2. Peter Jackson - 2,592,969,279.00\n",
      "3. Michael Bay - 2,231,242,537.00\n",
      "4. Tim Burton - 2,071,275,480.00\n",
      "5. Sam Raimi - 2,049,549,198.00\n",
      "6. James Cameron - 1,948,125,910.00\n",
      "7. Christopher Nolan - 1,813,227,576.00\n",
      "8. George Lucas - 1,741,418,480.00\n",
      "9. Joss Whedon - 1,730,886,628.00\n",
      "10. Robert Zemeckis - 1,619,309,108.00\n"
     ]
    }
   ],
   "source": [
    "most_profitable_director()"
   ]
  },
  {
   "cell_type": "code",
   "execution_count": 20,
   "metadata": {},
   "outputs": [
    {
     "name": "stdout",
     "output_type": "stream",
     "text": [
      "1. Avatar  (2009) - 760,505,847.00\n",
      "2. Titanic  (1997) - 658,672,302.00\n",
      "3. Jurassic World  (2015) - 652,177,271.00\n",
      "4. The Avengers  (2012) - 623,279,547.00\n",
      "5. The Dark Knight  (2008) - 533,316,061.00\n",
      "6. Star Wars: Episode I - The Phantom Menace  (1999) - 474,544,677.00\n",
      "7. Star Wars: Episode IV - A New Hope  (1977) - 460,935,665.00\n",
      "8. Avengers: Age of Ultron  (2015) - 458,991,599.00\n",
      "9. The Dark Knight Rises  (2012) - 448,130,642.00\n",
      "10. Shrek 2  (2004) - 436,471,036.00\n",
      "11. E.T. the Extra-Terrestrial  (1982) - 434,949,459.00\n",
      "12. The Hunger Games: Catching Fire  (2013) - 424,645,577.00\n",
      "13. Pirates of the Caribbean: Dead Man's Chest  (2006) - 423,032,628.00\n",
      "14. The Lion King  (1994) - 422,783,777.00\n",
      "15. Toy Story 3  (2010) - 414,984,497.00\n"
     ]
    }
   ],
   "source": [
    "most_profitable_movie()"
   ]
  },
  {
   "cell_type": "code",
   "execution_count": 48,
   "metadata": {},
   "outputs": [
    {
     "data": {
      "text/plain": [
       "Text(0, 0.5, 'count')"
      ]
     },
     "execution_count": 48,
     "metadata": {},
     "output_type": "execute_result"
    },
    {
     "data": {
      "image/png": "[encoded data removed]",
      "text/plain": [
       "<Figure size 432x288 with 1 Axes>"
      ]
     },
     "metadata": {
      "needs_background": "light"
     },
     "output_type": "display_data"
    }
   ],
   "source": [
    "year = 2001\n",
    "budget_distribution(2001)\n"
   ]
  }
 ],
 "metadata": {
  "interpreter": {
   "hash": "1d2957daf698fb3e1516ab188f1c832f17e359e7cc3931ffa465b0b6c10246c0"
  },
  "kernelspec": {
   "display_name": "Python 3.7.0 ('py37')",
   "language": "python",
   "name": "python3"
  },
  "language_info": {
   "codemirror_mode": {
    "name": "ipython",
    "version": 3
   },
   "file_extension": ".py",
   "mimetype": "text/x-python",
   "name": "python",
   "nbconvert_exporter": "python",
   "pygments_lexer": "ipython3",
   "version": "3.7.0"
  },
  "orig_nbformat": 4
 },
 "nbformat": 4,
 "nbformat_minor": 2
}
