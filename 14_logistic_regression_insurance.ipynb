{
  "cells": [
    {
      "cell_type": "code",
      "execution_count": 1,
      "metadata": {
        "id": "RJJeD1RJ-v5p"
      },
      "outputs": [],
      "source": [
        "import pandas as pd\n",
        "import numpy as np\n",
        "import matplotlib.pyplot as plt\n",
        "from sklearn.model_selection import train_test_split as tts\n",
        "import sklearn.feature_selection as fs\n",
        "from sklearn.linear_model import LogisticRegression\n",
        "from sklearn import metrics"
      ]
    },
    {
      "cell_type": "code",
      "execution_count": 2,
      "metadata": {},
      "outputs": [
        {
          "data": {
            "text/html": [
              "<div>\n",
              "<style scoped>\n",
              "    .dataframe tbody tr th:only-of-type {\n",
              "        vertical-align: middle;\n",
              "    }\n",
              "\n",
              "    .dataframe tbody tr th {\n",
              "        vertical-align: top;\n",
              "    }\n",
              "\n",
              "    .dataframe thead th {\n",
              "        text-align: right;\n",
              "    }\n",
              "</style>\n",
              "<table border=\"1\" class=\"dataframe\">\n",
              "  <thead>\n",
              "    <tr style=\"text-align: right;\">\n",
              "      <th></th>\n",
              "      <th>id</th>\n",
              "      <th>first_name</th>\n",
              "      <th>last_name</th>\n",
              "      <th>email</th>\n",
              "      <th>gender</th>\n",
              "      <th>age</th>\n",
              "      <th>marital_status</th>\n",
              "      <th>country</th>\n",
              "      <th>work</th>\n",
              "      <th>salary(million)</th>\n",
              "      <th>have_car</th>\n",
              "      <th>car_band</th>\n",
              "      <th>is_join</th>\n",
              "    </tr>\n",
              "  </thead>\n",
              "  <tbody>\n",
              "    <tr>\n",
              "      <th>0</th>\n",
              "      <td>1</td>\n",
              "      <td>Dew</td>\n",
              "      <td>Willisch</td>\n",
              "      <td>dwillisch0@mac.com</td>\n",
              "      <td>Male</td>\n",
              "      <td>40</td>\n",
              "      <td>True</td>\n",
              "      <td>Tanzania</td>\n",
              "      <td>Statistician II</td>\n",
              "      <td>17</td>\n",
              "      <td>1</td>\n",
              "      <td>Mitsubishi</td>\n",
              "      <td>1</td>\n",
              "    </tr>\n",
              "    <tr>\n",
              "      <th>1</th>\n",
              "      <td>2</td>\n",
              "      <td>Cyndi</td>\n",
              "      <td>McGown</td>\n",
              "      <td>cmcgown1@mashable.com</td>\n",
              "      <td>Genderfluid</td>\n",
              "      <td>42</td>\n",
              "      <td>False</td>\n",
              "      <td>Poland</td>\n",
              "      <td>Software Consultant</td>\n",
              "      <td>22</td>\n",
              "      <td>1</td>\n",
              "      <td>Chevrolet</td>\n",
              "      <td>0</td>\n",
              "    </tr>\n",
              "    <tr>\n",
              "      <th>2</th>\n",
              "      <td>3</td>\n",
              "      <td>Mirabella</td>\n",
              "      <td>Ainscough</td>\n",
              "      <td>mainscough2@loc.gov</td>\n",
              "      <td>Female</td>\n",
              "      <td>23</td>\n",
              "      <td>True</td>\n",
              "      <td>Indonesia</td>\n",
              "      <td>Senior Quality Engineer</td>\n",
              "      <td>13</td>\n",
              "      <td>0</td>\n",
              "      <td>NaN</td>\n",
              "      <td>0</td>\n",
              "    </tr>\n",
              "    <tr>\n",
              "      <th>3</th>\n",
              "      <td>4</td>\n",
              "      <td>Pammy</td>\n",
              "      <td>Westbrook</td>\n",
              "      <td>pwestbrook3@google.com</td>\n",
              "      <td>Female</td>\n",
              "      <td>20</td>\n",
              "      <td>True</td>\n",
              "      <td>Indonesia</td>\n",
              "      <td>Senior Developer</td>\n",
              "      <td>13</td>\n",
              "      <td>1</td>\n",
              "      <td>Isuzu</td>\n",
              "      <td>1</td>\n",
              "    </tr>\n",
              "    <tr>\n",
              "      <th>4</th>\n",
              "      <td>5</td>\n",
              "      <td>Joleen</td>\n",
              "      <td>Labin</td>\n",
              "      <td>jlabin4@hugedomains.com</td>\n",
              "      <td>Female</td>\n",
              "      <td>28</td>\n",
              "      <td>True</td>\n",
              "      <td>United States</td>\n",
              "      <td>Staff Scientist</td>\n",
              "      <td>17</td>\n",
              "      <td>1</td>\n",
              "      <td>Ford</td>\n",
              "      <td>1</td>\n",
              "    </tr>\n",
              "    <tr>\n",
              "      <th>...</th>\n",
              "      <td>...</td>\n",
              "      <td>...</td>\n",
              "      <td>...</td>\n",
              "      <td>...</td>\n",
              "      <td>...</td>\n",
              "      <td>...</td>\n",
              "      <td>...</td>\n",
              "      <td>...</td>\n",
              "      <td>...</td>\n",
              "      <td>...</td>\n",
              "      <td>...</td>\n",
              "      <td>...</td>\n",
              "      <td>...</td>\n",
              "    </tr>\n",
              "    <tr>\n",
              "      <th>495</th>\n",
              "      <td>496</td>\n",
              "      <td>Kaiser</td>\n",
              "      <td>Shewery</td>\n",
              "      <td>kshewerydr@epa.gov</td>\n",
              "      <td>Non-binary</td>\n",
              "      <td>43</td>\n",
              "      <td>True</td>\n",
              "      <td>Czech Republic</td>\n",
              "      <td>Senior Developer</td>\n",
              "      <td>23</td>\n",
              "      <td>1</td>\n",
              "      <td>Lamborghini</td>\n",
              "      <td>1</td>\n",
              "    </tr>\n",
              "    <tr>\n",
              "      <th>496</th>\n",
              "      <td>497</td>\n",
              "      <td>Torey</td>\n",
              "      <td>Giovannilli</td>\n",
              "      <td>tgiovannillids@barnesandnoble.com</td>\n",
              "      <td>Female</td>\n",
              "      <td>30</td>\n",
              "      <td>False</td>\n",
              "      <td>Syria</td>\n",
              "      <td>Chief Design Engineer</td>\n",
              "      <td>10</td>\n",
              "      <td>0</td>\n",
              "      <td>NaN</td>\n",
              "      <td>1</td>\n",
              "    </tr>\n",
              "    <tr>\n",
              "      <th>497</th>\n",
              "      <td>498</td>\n",
              "      <td>Zebulon</td>\n",
              "      <td>Bindon</td>\n",
              "      <td>zbindondt@amazon.com</td>\n",
              "      <td>Male</td>\n",
              "      <td>26</td>\n",
              "      <td>True</td>\n",
              "      <td>Sweden</td>\n",
              "      <td>Product Engineer</td>\n",
              "      <td>11</td>\n",
              "      <td>1</td>\n",
              "      <td>BMW</td>\n",
              "      <td>0</td>\n",
              "    </tr>\n",
              "    <tr>\n",
              "      <th>498</th>\n",
              "      <td>499</td>\n",
              "      <td>Giuditta</td>\n",
              "      <td>Brewerton</td>\n",
              "      <td>gbrewertondu@1688.com</td>\n",
              "      <td>Female</td>\n",
              "      <td>20</td>\n",
              "      <td>False</td>\n",
              "      <td>China</td>\n",
              "      <td>Staff Accountant II</td>\n",
              "      <td>17</td>\n",
              "      <td>1</td>\n",
              "      <td>Infiniti</td>\n",
              "      <td>1</td>\n",
              "    </tr>\n",
              "    <tr>\n",
              "      <th>499</th>\n",
              "      <td>500</td>\n",
              "      <td>Staford</td>\n",
              "      <td>Ericssen</td>\n",
              "      <td>sericssendv@weibo.com</td>\n",
              "      <td>Male</td>\n",
              "      <td>54</td>\n",
              "      <td>True</td>\n",
              "      <td>Myanmar</td>\n",
              "      <td>Librarian</td>\n",
              "      <td>12</td>\n",
              "      <td>1</td>\n",
              "      <td>Ford</td>\n",
              "      <td>1</td>\n",
              "    </tr>\n",
              "  </tbody>\n",
              "</table>\n",
              "<p>500 rows × 13 columns</p>\n",
              "</div>"
            ],
            "text/plain": [
              "      id first_name    last_name                              email  \\\n",
              "0      1        Dew     Willisch                 dwillisch0@mac.com   \n",
              "1      2      Cyndi       McGown              cmcgown1@mashable.com   \n",
              "2      3  Mirabella    Ainscough                mainscough2@loc.gov   \n",
              "3      4      Pammy    Westbrook             pwestbrook3@google.com   \n",
              "4      5     Joleen        Labin            jlabin4@hugedomains.com   \n",
              "..   ...        ...          ...                                ...   \n",
              "495  496     Kaiser      Shewery                 kshewerydr@epa.gov   \n",
              "496  497      Torey  Giovannilli  tgiovannillids@barnesandnoble.com   \n",
              "497  498    Zebulon       Bindon               zbindondt@amazon.com   \n",
              "498  499   Giuditta    Brewerton              gbrewertondu@1688.com   \n",
              "499  500    Staford     Ericssen              sericssendv@weibo.com   \n",
              "\n",
              "          gender  age  marital_status         country  \\\n",
              "0           Male   40            True        Tanzania   \n",
              "1    Genderfluid   42           False          Poland   \n",
              "2         Female   23            True       Indonesia   \n",
              "3         Female   20            True       Indonesia   \n",
              "4         Female   28            True   United States   \n",
              "..           ...  ...             ...             ...   \n",
              "495   Non-binary   43            True  Czech Republic   \n",
              "496       Female   30           False           Syria   \n",
              "497         Male   26            True          Sweden   \n",
              "498       Female   20           False           China   \n",
              "499         Male   54            True         Myanmar   \n",
              "\n",
              "                        work  salary(million)  have_car     car_band  is_join  \n",
              "0            Statistician II               17         1   Mitsubishi        1  \n",
              "1        Software Consultant               22         1    Chevrolet        0  \n",
              "2    Senior Quality Engineer               13         0          NaN        0  \n",
              "3           Senior Developer               13         1        Isuzu        1  \n",
              "4            Staff Scientist               17         1         Ford        1  \n",
              "..                       ...              ...       ...          ...      ...  \n",
              "495         Senior Developer               23         1  Lamborghini        1  \n",
              "496    Chief Design Engineer               10         0          NaN        1  \n",
              "497         Product Engineer               11         1          BMW        0  \n",
              "498      Staff Accountant II               17         1     Infiniti        1  \n",
              "499                Librarian               12         1         Ford        1  \n",
              "\n",
              "[500 rows x 13 columns]"
            ]
          },
          "execution_count": 2,
          "metadata": {},
          "output_type": "execute_result"
        }
      ],
      "source": [
        "df = pd.read_csv('assets/1655502677_insurance_consument.csv')\n",
        "df"
      ]
    },
    {
      "cell_type": "code",
      "execution_count": 3,
      "metadata": {},
      "outputs": [
        {
          "name": "stdout",
          "output_type": "stream",
          "text": [
            "<class 'pandas.core.frame.DataFrame'>\n",
            "RangeIndex: 500 entries, 0 to 499\n",
            "Data columns (total 13 columns):\n",
            " #   Column           Non-Null Count  Dtype \n",
            "---  ------           --------------  ----- \n",
            " 0   id               500 non-null    int64 \n",
            " 1   first_name       500 non-null    object\n",
            " 2   last_name        500 non-null    object\n",
            " 3   email            500 non-null    object\n",
            " 4   gender           500 non-null    object\n",
            " 5   age              500 non-null    int64 \n",
            " 6   marital_status   500 non-null    bool  \n",
            " 7   country          500 non-null    object\n",
            " 8   work             500 non-null    object\n",
            " 9   salary(million)  500 non-null    int64 \n",
            " 10  have_car         500 non-null    int64 \n",
            " 11  car_band         357 non-null    object\n",
            " 12  is_join          500 non-null    int64 \n",
            "dtypes: bool(1), int64(5), object(7)\n",
            "memory usage: 47.5+ KB\n"
          ]
        }
      ],
      "source": [
        "df.info()"
      ]
    },
    {
      "cell_type": "code",
      "execution_count": 4,
      "metadata": {},
      "outputs": [
        {
          "data": {
            "text/html": [
              "<div>\n",
              "<style scoped>\n",
              "    .dataframe tbody tr th:only-of-type {\n",
              "        vertical-align: middle;\n",
              "    }\n",
              "\n",
              "    .dataframe tbody tr th {\n",
              "        vertical-align: top;\n",
              "    }\n",
              "\n",
              "    .dataframe thead th {\n",
              "        text-align: right;\n",
              "    }\n",
              "</style>\n",
              "<table border=\"1\" class=\"dataframe\">\n",
              "  <thead>\n",
              "    <tr style=\"text-align: right;\">\n",
              "      <th></th>\n",
              "      <th>id</th>\n",
              "      <th>age</th>\n",
              "      <th>salary(million)</th>\n",
              "      <th>have_car</th>\n",
              "      <th>is_join</th>\n",
              "    </tr>\n",
              "  </thead>\n",
              "  <tbody>\n",
              "    <tr>\n",
              "      <th>count</th>\n",
              "      <td>500.000000</td>\n",
              "      <td>500.000000</td>\n",
              "      <td>500.000000</td>\n",
              "      <td>500.000000</td>\n",
              "      <td>500.000000</td>\n",
              "    </tr>\n",
              "    <tr>\n",
              "      <th>mean</th>\n",
              "      <td>250.500000</td>\n",
              "      <td>35.516000</td>\n",
              "      <td>16.992000</td>\n",
              "      <td>0.714000</td>\n",
              "      <td>0.414000</td>\n",
              "    </tr>\n",
              "    <tr>\n",
              "      <th>std</th>\n",
              "      <td>144.481833</td>\n",
              "      <td>9.503809</td>\n",
              "      <td>4.040369</td>\n",
              "      <td>0.452342</td>\n",
              "      <td>0.493042</td>\n",
              "    </tr>\n",
              "    <tr>\n",
              "      <th>min</th>\n",
              "      <td>1.000000</td>\n",
              "      <td>20.000000</td>\n",
              "      <td>8.000000</td>\n",
              "      <td>0.000000</td>\n",
              "      <td>0.000000</td>\n",
              "    </tr>\n",
              "    <tr>\n",
              "      <th>25%</th>\n",
              "      <td>125.750000</td>\n",
              "      <td>29.000000</td>\n",
              "      <td>14.000000</td>\n",
              "      <td>0.000000</td>\n",
              "      <td>0.000000</td>\n",
              "    </tr>\n",
              "    <tr>\n",
              "      <th>50%</th>\n",
              "      <td>250.500000</td>\n",
              "      <td>35.000000</td>\n",
              "      <td>17.000000</td>\n",
              "      <td>1.000000</td>\n",
              "      <td>0.000000</td>\n",
              "    </tr>\n",
              "    <tr>\n",
              "      <th>75%</th>\n",
              "      <td>375.250000</td>\n",
              "      <td>41.000000</td>\n",
              "      <td>20.000000</td>\n",
              "      <td>1.000000</td>\n",
              "      <td>1.000000</td>\n",
              "    </tr>\n",
              "    <tr>\n",
              "      <th>max</th>\n",
              "      <td>500.000000</td>\n",
              "      <td>67.000000</td>\n",
              "      <td>29.000000</td>\n",
              "      <td>1.000000</td>\n",
              "      <td>1.000000</td>\n",
              "    </tr>\n",
              "  </tbody>\n",
              "</table>\n",
              "</div>"
            ],
            "text/plain": [
              "               id         age  salary(million)    have_car     is_join\n",
              "count  500.000000  500.000000       500.000000  500.000000  500.000000\n",
              "mean   250.500000   35.516000        16.992000    0.714000    0.414000\n",
              "std    144.481833    9.503809         4.040369    0.452342    0.493042\n",
              "min      1.000000   20.000000         8.000000    0.000000    0.000000\n",
              "25%    125.750000   29.000000        14.000000    0.000000    0.000000\n",
              "50%    250.500000   35.000000        17.000000    1.000000    0.000000\n",
              "75%    375.250000   41.000000        20.000000    1.000000    1.000000\n",
              "max    500.000000   67.000000        29.000000    1.000000    1.000000"
            ]
          },
          "execution_count": 4,
          "metadata": {},
          "output_type": "execute_result"
        }
      ],
      "source": [
        "df.describe()"
      ]
    },
    {
      "cell_type": "code",
      "execution_count": 5,
      "metadata": {
        "id": "JuP2YYRDQd-r"
      },
      "outputs": [
        {
          "data": {
            "text/plain": [
              "id                   0\n",
              "first_name           0\n",
              "last_name            0\n",
              "email                0\n",
              "gender               0\n",
              "age                  0\n",
              "marital_status       0\n",
              "country              0\n",
              "work                 0\n",
              "salary(million)      0\n",
              "have_car             0\n",
              "car_band           143\n",
              "is_join              0\n",
              "dtype: int64"
            ]
          },
          "execution_count": 5,
          "metadata": {},
          "output_type": "execute_result"
        }
      ],
      "source": [
        "df.isna().sum()"
      ]
    },
    {
      "cell_type": "code",
      "execution_count": 6,
      "metadata": {},
      "outputs": [],
      "source": [
        "df.drop([\"id\", \"first_name\", \"last_name\", \"email\"], axis=1, inplace=True)\n",
        "df.drop(['country', 'work', 'car_band'], axis=1, inplace=True)\n",
        "#df.drop(['marital_status'], axis=1, inplace=True)"
      ]
    },
    {
      "cell_type": "code",
      "execution_count": 7,
      "metadata": {},
      "outputs": [],
      "source": [
        "df.drop(['gender'], axis=1, inplace=True)"
      ]
    },
    {
      "cell_type": "code",
      "execution_count": 8,
      "metadata": {
        "id": "cS6sIlnpVF8R"
      },
      "outputs": [
        {
          "data": {
            "text/html": [
              "<div>\n",
              "<style scoped>\n",
              "    .dataframe tbody tr th:only-of-type {\n",
              "        vertical-align: middle;\n",
              "    }\n",
              "\n",
              "    .dataframe tbody tr th {\n",
              "        vertical-align: top;\n",
              "    }\n",
              "\n",
              "    .dataframe thead th {\n",
              "        text-align: right;\n",
              "    }\n",
              "</style>\n",
              "<table border=\"1\" class=\"dataframe\">\n",
              "  <thead>\n",
              "    <tr style=\"text-align: right;\">\n",
              "      <th></th>\n",
              "      <th>age</th>\n",
              "      <th>marital_status</th>\n",
              "      <th>salary(million)</th>\n",
              "      <th>have_car</th>\n",
              "      <th>is_join</th>\n",
              "    </tr>\n",
              "  </thead>\n",
              "  <tbody>\n",
              "    <tr>\n",
              "      <th>0</th>\n",
              "      <td>40</td>\n",
              "      <td>True</td>\n",
              "      <td>17</td>\n",
              "      <td>1</td>\n",
              "      <td>1</td>\n",
              "    </tr>\n",
              "    <tr>\n",
              "      <th>1</th>\n",
              "      <td>42</td>\n",
              "      <td>False</td>\n",
              "      <td>22</td>\n",
              "      <td>1</td>\n",
              "      <td>0</td>\n",
              "    </tr>\n",
              "    <tr>\n",
              "      <th>2</th>\n",
              "      <td>23</td>\n",
              "      <td>True</td>\n",
              "      <td>13</td>\n",
              "      <td>0</td>\n",
              "      <td>0</td>\n",
              "    </tr>\n",
              "    <tr>\n",
              "      <th>3</th>\n",
              "      <td>20</td>\n",
              "      <td>True</td>\n",
              "      <td>13</td>\n",
              "      <td>1</td>\n",
              "      <td>1</td>\n",
              "    </tr>\n",
              "    <tr>\n",
              "      <th>4</th>\n",
              "      <td>28</td>\n",
              "      <td>True</td>\n",
              "      <td>17</td>\n",
              "      <td>1</td>\n",
              "      <td>1</td>\n",
              "    </tr>\n",
              "  </tbody>\n",
              "</table>\n",
              "</div>"
            ],
            "text/plain": [
              "   age  marital_status  salary(million)  have_car  is_join\n",
              "0   40            True               17         1        1\n",
              "1   42           False               22         1        0\n",
              "2   23            True               13         0        0\n",
              "3   20            True               13         1        1\n",
              "4   28            True               17         1        1"
            ]
          },
          "execution_count": 8,
          "metadata": {},
          "output_type": "execute_result"
        }
      ],
      "source": [
        "df.head()"
      ]
    },
    {
      "cell_type": "code",
      "execution_count": 9,
      "metadata": {},
      "outputs": [],
      "source": [
        "df['marital_status'].replace([True, False],[1, 0], inplace=True)"
      ]
    },
    {
      "cell_type": "code",
      "execution_count": 10,
      "metadata": {},
      "outputs": [
        {
          "data": {
            "text/html": [
              "<div>\n",
              "<style scoped>\n",
              "    .dataframe tbody tr th:only-of-type {\n",
              "        vertical-align: middle;\n",
              "    }\n",
              "\n",
              "    .dataframe tbody tr th {\n",
              "        vertical-align: top;\n",
              "    }\n",
              "\n",
              "    .dataframe thead th {\n",
              "        text-align: right;\n",
              "    }\n",
              "</style>\n",
              "<table border=\"1\" class=\"dataframe\">\n",
              "  <thead>\n",
              "    <tr style=\"text-align: right;\">\n",
              "      <th></th>\n",
              "      <th>age</th>\n",
              "      <th>marital_status</th>\n",
              "      <th>salary(million)</th>\n",
              "      <th>have_car</th>\n",
              "      <th>is_join</th>\n",
              "    </tr>\n",
              "  </thead>\n",
              "  <tbody>\n",
              "    <tr>\n",
              "      <th>0</th>\n",
              "      <td>40</td>\n",
              "      <td>1</td>\n",
              "      <td>17</td>\n",
              "      <td>1</td>\n",
              "      <td>1</td>\n",
              "    </tr>\n",
              "    <tr>\n",
              "      <th>1</th>\n",
              "      <td>42</td>\n",
              "      <td>0</td>\n",
              "      <td>22</td>\n",
              "      <td>1</td>\n",
              "      <td>0</td>\n",
              "    </tr>\n",
              "    <tr>\n",
              "      <th>2</th>\n",
              "      <td>23</td>\n",
              "      <td>1</td>\n",
              "      <td>13</td>\n",
              "      <td>0</td>\n",
              "      <td>0</td>\n",
              "    </tr>\n",
              "    <tr>\n",
              "      <th>3</th>\n",
              "      <td>20</td>\n",
              "      <td>1</td>\n",
              "      <td>13</td>\n",
              "      <td>1</td>\n",
              "      <td>1</td>\n",
              "    </tr>\n",
              "    <tr>\n",
              "      <th>4</th>\n",
              "      <td>28</td>\n",
              "      <td>1</td>\n",
              "      <td>17</td>\n",
              "      <td>1</td>\n",
              "      <td>1</td>\n",
              "    </tr>\n",
              "  </tbody>\n",
              "</table>\n",
              "</div>"
            ],
            "text/plain": [
              "   age  marital_status  salary(million)  have_car  is_join\n",
              "0   40               1               17         1        1\n",
              "1   42               0               22         1        0\n",
              "2   23               1               13         0        0\n",
              "3   20               1               13         1        1\n",
              "4   28               1               17         1        1"
            ]
          },
          "execution_count": 10,
          "metadata": {},
          "output_type": "execute_result"
        }
      ],
      "source": [
        "df.head()"
      ]
    },
    {
      "cell_type": "code",
      "execution_count": 11,
      "metadata": {},
      "outputs": [],
      "source": [
        "X = df[[\"age\", \"marital_status\", \"salary(million)\", \"have_car\"]]\n",
        "y = df[[\"is_join\"]]"
      ]
    },
    {
      "cell_type": "code",
      "execution_count": 12,
      "metadata": {},
      "outputs": [
        {
          "name": "stdout",
          "output_type": "stream",
          "text": [
            "Support = [False  True False  True]\n",
            "Ranking = [3 1 2 1]\n"
          ]
        }
      ],
      "source": [
        "model_lr = LogisticRegression(solver='lbfgs')\n",
        "rfe = fs.RFE(model_lr)\n",
        "rfe.fit(X,y.values.ravel())\n",
        "print(f'Support = {rfe.support_}')\n",
        "print(f'Ranking = {rfe.ranking_}')"
      ]
    },
    {
      "cell_type": "code",
      "execution_count": 13,
      "metadata": {
        "id": "P2V3a9VnayS0"
      },
      "outputs": [],
      "source": [
        "X = df[[\"marital_status\", \"have_car\"]]"
      ]
    },
    {
      "cell_type": "code",
      "execution_count": 14,
      "metadata": {},
      "outputs": [
        {
          "name": "stdout",
          "output_type": "stream",
          "text": [
            "dimensi dari X_train : 475\n",
            "dimensi dari y_train : 475\n",
            "dimensi dari X_test : 25\n",
            "dimensi dari y_test : 25\n"
          ]
        }
      ],
      "source": [
        "x_train, x_test, y_train, y_test = tts(X, y, random_state=18, test_size=0.05)\n",
        "print(f'dimensi dari X_train : {len(x_train)}')\n",
        "print(f'dimensi dari y_train : {len(y_train)}')\n",
        "print(f'dimensi dari X_test : {len(x_test)}')\n",
        "print(f'dimensi dari y_test : {len(y_test)}')"
      ]
    },
    {
      "cell_type": "code",
      "execution_count": 15,
      "metadata": {},
      "outputs": [
        {
          "data": {
            "text/plain": [
              "LogisticRegression()"
            ]
          },
          "execution_count": 15,
          "metadata": {},
          "output_type": "execute_result"
        }
      ],
      "source": [
        "model_lr.fit(x_train, y_train.values.ravel())"
      ]
    },
    {
      "cell_type": "code",
      "execution_count": 16,
      "metadata": {},
      "outputs": [
        {
          "name": "stdout",
          "output_type": "stream",
          "text": [
            "Nilai AUC : 0.72\n"
          ]
        }
      ],
      "source": [
        "y_predict = model_lr.predict(x_test)\n",
        "auc = metrics.accuracy_score(y_test, y_predict)\n",
        "\n",
        "print(f'Nilai AUC : {auc}')"
      ]
    },
    {
      "cell_type": "code",
      "execution_count": 17,
      "metadata": {},
      "outputs": [
        {
          "name": "stdout",
          "output_type": "stream",
          "text": [
            "[[18  0]\n",
            " [ 7  0]]\n"
          ]
        }
      ],
      "source": [
        "from sklearn.metrics import confusion_matrix\n",
        "confusion_matrix = confusion_matrix(y_test, y_predict)\n",
        "print(confusion_matrix)"
      ]
    },
    {
      "cell_type": "code",
      "execution_count": 18,
      "metadata": {},
      "outputs": [
        {
          "name": "stdout",
          "output_type": "stream",
          "text": [
            "              precision    recall  f1-score   support\n",
            "\n",
            "           0       0.72      1.00      0.84        18\n",
            "           1       0.00      0.00      0.00         7\n",
            "\n",
            "    accuracy                           0.72        25\n",
            "   macro avg       0.36      0.50      0.42        25\n",
            "weighted avg       0.52      0.72      0.60        25\n",
            "\n"
          ]
        },
        {
          "name": "stderr",
          "output_type": "stream",
          "text": [
            "/home/sofi/anaconda3/envs/py37/lib/python3.7/site-packages/sklearn/metrics/_classification.py:1318: UndefinedMetricWarning: Precision and F-score are ill-defined and being set to 0.0 in labels with no predicted samples. Use `zero_division` parameter to control this behavior.\n",
            "  _warn_prf(average, modifier, msg_start, len(result))\n",
            "/home/sofi/anaconda3/envs/py37/lib/python3.7/site-packages/sklearn/metrics/_classification.py:1318: UndefinedMetricWarning: Precision and F-score are ill-defined and being set to 0.0 in labels with no predicted samples. Use `zero_division` parameter to control this behavior.\n",
            "  _warn_prf(average, modifier, msg_start, len(result))\n",
            "/home/sofi/anaconda3/envs/py37/lib/python3.7/site-packages/sklearn/metrics/_classification.py:1318: UndefinedMetricWarning: Precision and F-score are ill-defined and being set to 0.0 in labels with no predicted samples. Use `zero_division` parameter to control this behavior.\n",
            "  _warn_prf(average, modifier, msg_start, len(result))\n"
          ]
        }
      ],
      "source": [
        "from sklearn.metrics import classification_report\n",
        "print(classification_report(y_test, y_predict))"
      ]
    },
    {
      "cell_type": "code",
      "execution_count": 19,
      "metadata": {},
      "outputs": [
        {
          "name": "stdout",
          "output_type": "stream",
          "text": [
            "     age  marital_status  salary(million)  have_car  is_join\n",
            "0     40               1               17         1        1\n",
            "3     20               1               13         1        1\n",
            "4     28               1               17         1        1\n",
            "5     20               1               12         1        1\n",
            "6     31               0               16         0        1\n",
            "..   ...             ...              ...       ...      ...\n",
            "493   21               1               16         1        1\n",
            "495   43               1               23         1        1\n",
            "496   30               0               10         0        1\n",
            "498   20               0               17         1        1\n",
            "499   54               1               12         1        1\n",
            "\n",
            "[207 rows x 5 columns]\n",
            "     age  marital_status  salary(million)  have_car  is_join\n",
            "1     42               0               22         1        0\n",
            "2     23               1               13         0        0\n",
            "8     26               0               13         0        0\n",
            "10    35               0               16         1        0\n",
            "12    54               1               16         1        0\n",
            "..   ...             ...              ...       ...      ...\n",
            "490   31               0               19         1        0\n",
            "491   34               0               14         1        0\n",
            "492   30               1               22         0        0\n",
            "494   30               1               19         1        0\n",
            "497   26               1               11         1        0\n",
            "\n",
            "[293 rows x 5 columns]\n"
          ]
        }
      ],
      "source": [
        "print(df[df[\"is_join\"]==1])\n",
        "print(df[df[\"is_join\"]==0])"
      ]
    }
  ],
  "metadata": {
    "colab": {
      "collapsed_sections": [],
      "name": "tugas_13_1.ipynb",
      "provenance": []
    },
    "interpreter": {
      "hash": "1d2957daf698fb3e1516ab188f1c832f17e359e7cc3931ffa465b0b6c10246c0"
    },
    "kernelspec": {
      "display_name": "Python 3.7.0 ('py37')",
      "language": "python",
      "name": "python3"
    },
    "language_info": {
      "codemirror_mode": {
        "name": "ipython",
        "version": 3
      },
      "file_extension": ".py",
      "mimetype": "text/x-python",
      "name": "python",
      "nbconvert_exporter": "python",
      "pygments_lexer": "ipython3",
      "version": "3.7.0"
    }
  },
  "nbformat": 4,
  "nbformat_minor": 0
}
