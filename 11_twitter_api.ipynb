{
  "cells": [
    {
      "cell_type": "code",
      "execution_count": 1,
      "metadata": {
        "id": "EB5BtvV3mzRv"
      },
      "outputs": [],
      "source": [
        "#import semua library yang kalian butuhkan disini\n",
        "import json, tweepy, requests\n",
        "from requests_oauthlib import OAuth1"
      ]
    },
    {
      "cell_type": "code",
      "execution_count": 2,
      "metadata": {
        "colab": {
          "base_uri": "https://localhost:8080/"
        },
        "id": "nXj1rD5SVKgY",
        "outputId": "b85f1031-0b2e-4158-88f2-90f6e94c2b23"
      },
      "outputs": [
        {
          "data": {
            "text/plain": [
              "dict_keys(['api_key', 'api_key_secret', 'access_token', 'access_token_secret', 'bearer_token'])"
            ]
          },
          "execution_count": 2,
          "metadata": {},
          "output_type": "execute_result"
        }
      ],
      "source": [
        "#sel ini digunakan untuk membaca tokens kalian. simpan berkas token.json pada folder yang sama dengan file tugas ini\n",
        "\n",
        "with open(\"assets/token.json\") as f:\n",
        "  tokens = json.load(f)\n",
        "\n",
        "bearer_token = tokens['bearer_token']\n",
        "api_key = tokens['api_key']\n",
        "api_key_secret = tokens['api_key_secret']\n",
        "access_token = tokens['access_token']\n",
        "access_token_secret = tokens['access_token_secret']\n",
        "\n",
        "auth = OAuth1(api_key,\n",
        "              api_key_secret,\n",
        "              access_token,\n",
        "              access_token_secret)\n",
        "\n",
        "tokens.keys()"
      ]
    },
    {
      "cell_type": "code",
      "execution_count": 3,
      "metadata": {},
      "outputs": [],
      "source": [
        "auth = tweepy.OAuthHandler(api_key, api_key_secret)\n",
        "auth.set_access_token(access_token, access_token_secret)\n",
        "api = tweepy.API(auth, wait_on_rate_limit=True)\n",
        "api_2 = tweepy.Client(access_token, access_token_secret, bearer_token, api_key, api_key_secret)"
      ]
    },
    {
      "cell_type": "code",
      "execution_count": 7,
      "metadata": {},
      "outputs": [],
      "source": [
        "#Buatlah sebuah fungsi dengan nama user_timeline_scraper()\n",
        "#fungsi tersebut memiliki input username dari user\n",
        "#Fungsi ini berguna untuk mengambil 10 tweet yang berada di timeline user.\n",
        "#gunakan metode Cursor untuk tugas ini\n",
        "#gunakan tweet_mode --> extended\n",
        "def user_timeline_scraper(username):\n",
        "    limit = 10\n",
        "    response =  tweepy.Cursor(api.user_timeline, \n",
        "                                    screen_name=username, \n",
        "                                    tweet_mode = \"extended\"\n",
        "                                    ).items(limit)\n",
        "    for tweet in response:\n",
        "        print(tweet.full_text)"
      ]
    },
    {
      "cell_type": "code",
      "execution_count": 8,
      "metadata": {},
      "outputs": [
        {
          "name": "stdout",
          "output_type": "stream",
          "text": [
            "Komitmen polri untuk meneladani Hoegeng sebagai sosok polisi jujur pernah dikhawatirkan hanya akan jadi lip service jika tidak ada revolusi yang dilakukan.\n",
            "\n",
            "| Mata Najwa https://t.co/vu0V2icwxd\n",
            "Tindakan kejam terhadap hewan termasuk tindak pidana dan bisa diancam pasal berlapis. Pelaku NA kini telah diselidiki dan dilaporkan ke Polisi Militer (POM) oleh Clow (Cat Lovers in The World).\n",
            "\n",
            "| Catatan Najwa https://t.co/FdBKGhJ6db\n",
            "Coba share dong, gimana cara kamu merayakan keberagaman?\n",
            "Keberagaman suku, ras, dan agama jadi salah satu keunikan Indonesia.\n",
            "\n",
            "Seperti kata Abi @quraishihab, perbedaan adalah kehendak sekaligus rahmat dari Tuhan.\n",
            "\n",
            "| Shihab &amp; Shihab\n",
            "\n",
            "Sumber video: Instagram/evermos_id https://t.co/F8ounA9g7S\n",
            "Apa Iya, Orang Indonesia Juara Dunia Paling Enggak Percaya Global Warming?\n",
            "https://t.co/rYOtqGdUZB\n",
            "\n",
            "Hayo, siapa dari kamu yang dapat kabar atau berita ini juga? | Buka Data\n",
            "Harus hati-hati banget nih kalau RKUHP sudah disahkan. Bisa jadi, banyak pasal karet yang cuma jadi alat memidanakan orang tidak bersalah. Kalau terseret ke jalur hukum, kita akan menghadapi pengadilan yang juga enggak sempurna.\n",
            "\n",
            "| Musyawarah https://t.co/Y4qh7yDiKt\n",
            "Semakin ditutupi, semakin pengin membuka tabirnya. Tumpahin tehnya jangan sedikit-sedikit dong, Pack.\n",
            "\n",
            "| Mata Najwa https://t.co/Nl4KDuCw78\n",
            "Cerita Ferdy Sambo Habisi Brigadir Yosua\n",
            "https://t.co/BRXBzxUQUJ\n",
            "\n",
            "Irjen Ferdy Sambo mengaku menjadi otak intelektual pembunuhan Brigadir Yosua dan ikut menghabisi dengan menembak sebanyak dua kali. | Buka Mata\n",
            "Nasida Ria Berjalan Melintasi Zaman\n",
            "https://t.co/6aX59nrXT2\n",
            "\n",
            "Perjalanan Nasida Ria dimulai dari Semarang, puluhan tahun silam, dan bertahan sampai sekarang. Kiprah mereka mewarnai kancah musik nasional lewat syair dan irama kasidah-nya. | People\n",
            "Jika ingin tahu lebih tentang data kultur kekerasan di Polri, kamu bisa menyaksikan video ini.\n",
            "https://t.co/yiUboLqNDM https://t.co/yzJGHSLKmP\n"
          ]
        }
      ],
      "source": [
        "username = \"MataNajwa\"\n",
        "user_timeline_scraper(username)"
      ]
    }
  ],
  "metadata": {
    "colab": {
      "collapsed_sections": [],
      "name": "tugas_23_coding.ipynb",
      "provenance": []
    },
    "interpreter": {
      "hash": "1d2957daf698fb3e1516ab188f1c832f17e359e7cc3931ffa465b0b6c10246c0"
    },
    "kernelspec": {
      "display_name": "Python 3.7.0 ('py37')",
      "language": "python",
      "name": "python3"
    },
    "language_info": {
      "codemirror_mode": {
        "name": "ipython",
        "version": 3
      },
      "file_extension": ".py",
      "mimetype": "text/x-python",
      "name": "python",
      "nbconvert_exporter": "python",
      "pygments_lexer": "ipython3",
      "version": "3.7.0"
    }
  },
  "nbformat": 4,
  "nbformat_minor": 0
}
