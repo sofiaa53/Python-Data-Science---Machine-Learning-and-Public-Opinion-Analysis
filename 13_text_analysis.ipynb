{
  "cells": [
    {
      "cell_type": "code",
      "execution_count": 3,
      "metadata": {
        "id": "RJJeD1RJ-v5p"
      },
      "outputs": [],
      "source": [
        "import pandas as pd\n",
        "from nltk.tokenize import word_tokenize\n",
        "import matplotlib.pyplot as plt\n",
        "import numpy as np\n",
        "from nltk.probability import FreqDist\n",
        "import nltk"
      ]
    },
    {
      "cell_type": "code",
      "execution_count": 4,
      "metadata": {},
      "outputs": [
        {
          "name": "stdout",
          "output_type": "stream",
          "text": [
            "                                                clean\n",
            "0   provinsi jawa barat indonesia besar tiga indon...\n",
            "1   catat sejarah salah satu diri guru teknik indo...\n",
            "2   pilih salah aman dunia dasar survei majalah ti...\n",
            "3   keliling gunung bentuk morfologi wilayah mangk...\n",
            "4   alir sungai utama sungai cikapundung sungai ci...\n",
            "5   geologis tanah bentuk zaman kwartier lapis tan...\n",
            "6   asal bendung bendung bendung sungai citarum la...\n",
            "7   dasar filosofi sunda asal kalimat ngabandungan...\n",
            "8   bumi lahir alam hidup banda alam hidup banda i...\n",
            "9   geografis keliling gunung telaga danau legenda...\n",
            "10  daerah sisasisa danau kering situ aksan an dan...\n",
            "11  jadi kawasan mukim perintah kolonial hindia be...\n",
            "12  resmi status gemeente gubernur jenderal jb van...\n",
            "13  perang merdeka maret bakar juang merdeka strat...\n",
            "14  tanggal april gedung merdeka nama concordia jl...\n"
          ]
        }
      ],
      "source": [
        "df = pd.read_csv('assets/artikel.csv')\n",
        "print(df)"
      ]
    },
    {
      "cell_type": "code",
      "execution_count": 5,
      "metadata": {
        "id": "JuP2YYRDQd-r"
      },
      "outputs": [
        {
          "data": {
            "image/png": "[encoded data removed]",
            "text/plain": [
              "<Figure size 432x288 with 1 Axes>"
            ]
          },
          "metadata": {
            "needs_background": "light"
          },
          "output_type": "display_data"
        }
      ],
      "source": [
        "bin_range = np.arange(0, 260, 10)\n",
        "df['clean'].str.len().hist(bins=bin_range)\n",
        "plt.show()"
      ]
    },
    {
      "cell_type": "code",
      "execution_count": 6,
      "metadata": {},
      "outputs": [
        {
          "data": {
            "image/png": "[encoded data removed]",
            "text/plain": [
              "<Figure size 432x288 with 1 Axes>"
            ]
          },
          "metadata": {
            "needs_background": "light"
          },
          "output_type": "display_data"
        }
      ],
      "source": [
        "bin_range = np.arange(0, 50)\n",
        "df['clean'].str.split().map(lambda x: len(x)).hist(bins=bin_range)\n",
        "plt.show()"
      ]
    },
    {
      "cell_type": "code",
      "execution_count": 7,
      "metadata": {
        "id": "cS6sIlnpVF8R"
      },
      "outputs": [
        {
          "data": {
            "image/png": "[encoded data removed]",
            "text/plain": [
              "<Figure size 432x288 with 1 Axes>"
            ]
          },
          "metadata": {
            "needs_background": "light"
          },
          "output_type": "display_data"
        }
      ],
      "source": [
        "df['clean'].str.split().apply(lambda x : [len(i) for i in x]).map(lambda x: np.mean(x)).hist()\n",
        "plt.show()"
      ]
    },
    {
      "cell_type": "code",
      "execution_count": 8,
      "metadata": {
        "colab": {
          "base_uri": "https://localhost:8080/",
          "height": 520
        },
        "id": "QBqHzuTHWVKy",
        "outputId": "81304b2c-c132-499f-b243-dd52409da9fd"
      },
      "outputs": [],
      "source": [
        "df['clean'] = df['clean'].apply(lambda x: word_tokenize(str(x)))"
      ]
    },
    {
      "cell_type": "code",
      "execution_count": 9,
      "metadata": {},
      "outputs": [],
      "source": [
        "tweets = [word for tweet in df['clean'] for word in tweet]"
      ]
    },
    {
      "cell_type": "code",
      "execution_count": 10,
      "metadata": {},
      "outputs": [
        {
          "name": "stdout",
          "output_type": "stream",
          "text": [
            "<FreqDist with 285 samples and 473 outcomes>\n"
          ]
        }
      ],
      "source": [
        "fqdist = FreqDist(tweets)\n",
        "print(fqdist)"
      ]
    },
    {
      "cell_type": "code",
      "execution_count": 11,
      "metadata": {
        "id": "P2V3a9VnayS0"
      },
      "outputs": [
        {
          "name": "stdout",
          "output_type": "stream",
          "text": [
            "[('wilayah', 6), ('selatan', 6), ('gunung', 6), ('sungai', 6), ('banda', 6), ('bumi', 6), ('danau', 6), ('barat', 5), ('indonesia', 5), ('bentuk', 5), ('kawasan', 5), ('alam', 5), ('hidup', 5), ('merdeka', 4), ('asiaafrika', 4), ('tinggi', 4), ('laut', 4), ('tanah', 4), ('legenda', 4), ('saksi', 4)]\n"
          ]
        }
      ],
      "source": [
        "most_common_word = fqdist.most_common(20)\n",
        "\n",
        "print(most_common_word)"
      ]
    },
    {
      "cell_type": "code",
      "execution_count": 12,
      "metadata": {},
      "outputs": [
        {
          "data": {
            "image/png": "[encoded data removed]",
            "text/plain": [
              "<Figure size 432x288 with 1 Axes>"
            ]
          },
          "metadata": {
            "needs_background": "light"
          },
          "output_type": "display_data"
        }
      ],
      "source": [
        "fqdist.plot(20,cumulative=False)\n",
        "\n",
        "plt.show()"
      ]
    },
    {
      "cell_type": "code",
      "execution_count": 13,
      "metadata": {},
      "outputs": [
        {
          "name": "stdout",
          "output_type": "stream",
          "text": [
            "(muka, laut)                3\n",
            "(gunung, tangkuban)         3\n",
            "(sungai, citarum)           3\n",
            "(alam, hidup)               3\n",
            "(provinsi, jawa)            2\n",
            "(benda, mati)               2\n",
            "(ha, tambah)                2\n",
            "(tangkuban, parahu)         2\n",
            "(luas, wilayah)             2\n",
            "(tanggal, april)            2\n",
            "(banda, alam)               2\n",
            "(hidup, benda)              2\n",
            "(indung, bumi)              2\n",
            "(konferensi, asiaafrika)    2\n",
            "(banda, indung)             2\n",
            "(hidup, banda)              2\n",
            "(gubernur, jenderal)        2\n",
            "(meter, muka)               2\n",
            "(tinggi, meter)             2\n",
            "(keliling, gunung)          2\n",
            "dtype: int64\n"
          ]
        }
      ],
      "source": [
        "result = pd.Series(nltk.ngrams(tweets, 2)).value_counts()[:20]\n",
        "print(result)"
      ]
    },
    {
      "cell_type": "code",
      "execution_count": 14,
      "metadata": {},
      "outputs": [
        {
          "data": {
            "text/plain": [
              "' Analisis :\\n1. Distribusi frekuensi karakter per tweet : distribusi terbanyak berada pada 130-160 dan 220-250 karakter pertweet\\n2. Distribusi panjang kata per tweet : distribusi terbanyak berada di rentang 20 - 50 kata per tweet, tidak ada tweet dibawah 10 kata\\n3. Distribusi panjang rata-rata kata per tweet : distribusi terbanyak berada pada 5.8 sampai 6 karakter per kata per tweet\\n4. Distribusi frekuensi kata : wilayah, selatan, gunung, sungai, banda, bumi, dan danau merupakan kata yang paling sering keluar diikuti dengan kata-kata berikutnya yang merepresentasikan Jawa Barat dan bentang alamnya\\n5. Distribusi bi-gram : distribusi b-ram memperjelas topik yang dibicarakan dalam tweet adalah mengenai kota Bandung : sejarah dan alamnya\\n'"
            ]
          },
          "execution_count": 14,
          "metadata": {},
          "output_type": "execute_result"
        }
      ],
      "source": [
        "''' Analisis :\n",
        "1. Distribusi frekuensi karakter per tweet : distribusi terbanyak berada pada 130-160 dan 220-250 karakter pertweet\n",
        "2. Distribusi panjang kata per tweet : distribusi terbanyak berada di rentang 20 - 50 kata per tweet, tidak ada tweet dibawah 10 kata\n",
        "3. Distribusi panjang rata-rata kata per tweet : distribusi terbanyak berada pada 5.8 sampai 6 karakter per kata per tweet\n",
        "4. Distribusi frekuensi kata : wilayah, selatan, gunung, sungai, banda, bumi, dan danau merupakan kata yang paling sering keluar diikuti dengan kata-kata berikutnya yang merepresentasikan Jawa Barat dan bentang alamnya\n",
        "5. Distribusi bi-gram : distribusi b-ram memperjelas topik yang dibicarakan dalam tweet adalah mengenai kota Bandung : sejarah dan alamnya\n",
        "'''"
      ]
    }
  ],
  "metadata": {
    "colab": {
      "collapsed_sections": [],
      "name": "tugas_13_1.ipynb",
      "provenance": []
    },
    "interpreter": {
      "hash": "1d2957daf698fb3e1516ab188f1c832f17e359e7cc3931ffa465b0b6c10246c0"
    },
    "kernelspec": {
      "display_name": "Python 3.7.0 ('py37')",
      "language": "python",
      "name": "python3"
    },
    "language_info": {
      "codemirror_mode": {
        "name": "ipython",
        "version": 3
      },
      "file_extension": ".py",
      "mimetype": "text/x-python",
      "name": "python",
      "nbconvert_exporter": "python",
      "pygments_lexer": "ipython3",
      "version": "3.7.0"
    }
  },
  "nbformat": 4,
  "nbformat_minor": 0
}
